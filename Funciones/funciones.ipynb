{
 "cells": [
  {
   "cell_type": "markdown",
   "id": "2d3c3415",
   "metadata": {},
   "source": [
    "Calcular el área de un círculo.\n",
    "\n",
    "Descripción: Crea una función llamada calcular_area_circulo que tome el radio como parámetro y devuelva el área del círculo.\n",
    "\n",
    "NOTA: Os dejamos aquí un link para recordar comose calculaba el área de un círculo."
   ]
  },
  {
   "cell_type": "code",
   "execution_count": null,
   "id": "49954ba6",
   "metadata": {},
   "outputs": [
    {
     "data": {
      "text/plain": [
       "78.53981633974483"
      ]
     },
     "execution_count": 12,
     "metadata": {},
     "output_type": "execute_result"
    }
   ],
   "source": [
    "import math\n",
    "\n",
    "\n",
    "def calcular_area_circulo(radio):\n",
    "    resultado = (math.pi * (radio**2)) \n",
    "    return resultado\n",
    "\n",
    "\n",
    "calcular_area_circulo(5)"
   ]
  },
  {
   "cell_type": "markdown",
   "id": "9fd3930a",
   "metadata": {},
   "source": [
    "\n",
    "2.Contar la cantidad de caracteres en una cadena.\n",
    "\n",
    "Descripción: Crea una función llamada contar_caracteres que tome una cadena como parámetro y devuelva la cantidad de caracteres que contiene."
   ]
  },
  {
   "cell_type": "code",
   "execution_count": 55,
   "id": "37a1ec4a",
   "metadata": {},
   "outputs": [
    {
     "data": {
      "text/plain": [
       "15"
      ]
     },
     "execution_count": 55,
     "metadata": {},
     "output_type": "execute_result"
    }
   ],
   "source": [
    "listacaracter=[]\n",
    "conteo=0\n",
    "\n",
    "              \n",
    "def contar_caracteres(cadena):\n",
    "                                      \n",
    "    for caracter in cadena:\n",
    "        if caracter == \" \":\n",
    "            continue   \n",
    "        else: listacaracter.append(caracter)\n",
    "        conteo = len(listacaracter)     \n",
    "    return conteo\n",
    "\n",
    "\n",
    "contar_caracteres(\"Hola soy patricia\")\n",
    "\n",
    "\n"
   ]
  },
  {
   "cell_type": "code",
   "execution_count": 56,
   "id": "d849055f",
   "metadata": {},
   "outputs": [
    {
     "name": "stdout",
     "output_type": "stream",
     "text": [
      "0\n"
     ]
    }
   ],
   "source": [
    "print(conteo)\n"
   ]
  },
  {
   "cell_type": "markdown",
   "id": "001b7ce5",
   "metadata": {},
   "source": [
    "\n",
    "3.Determinar si una cadena es un palíndromo.\n",
    "\n",
    "Descripción: Crea una función llamada es_palindromo que tome una cadena como parámetro y devuelva True si es un palíndromo, o False si no lo es."
   ]
  },
  {
   "cell_type": "code",
   "execution_count": null,
   "id": "92ac8061",
   "metadata": {},
   "outputs": [],
   "source": [
    "listacadena=[]\n",
    "cadenainvertida=[]\n",
    "palindromo=False\n",
    "\n",
    "def es_palindromo(cadena):\n",
    "    listacadena.append(cadena)\n",
    "    cadenainvertida\n",
    "    if cadena == cadenainvertida:\n",
    "        palindromo=True   \n",
    "    else:  \n",
    "        palindromo=False\n",
    "    return palindromo\n",
    "        "
   ]
  },
  {
   "cell_type": "code",
   "execution_count": 67,
   "id": "2c2570e3",
   "metadata": {},
   "outputs": [
    {
     "ename": "TypeError",
     "evalue": "can only concatenate list (not \"str\") to list",
     "output_type": "error",
     "traceback": [
      "\u001b[31m---------------------------------------------------------------------------\u001b[39m",
      "\u001b[31mTypeError\u001b[39m                                 Traceback (most recent call last)",
      "\u001b[36mCell\u001b[39m\u001b[36m \u001b[39m\u001b[32mIn[67]\u001b[39m\u001b[32m, line 1\u001b[39m\n\u001b[32m----> \u001b[39m\u001b[32m1\u001b[39m \u001b[43mes_palindromo\u001b[49m\u001b[43m(\u001b[49m\u001b[33;43m\"\u001b[39;49m\u001b[33;43mDábale arroz a la zorra el abad\u001b[39;49m\u001b[33;43m\"\u001b[39;49m\u001b[43m)\u001b[49m\n",
      "\u001b[36mCell\u001b[39m\u001b[36m \u001b[39m\u001b[32mIn[66]\u001b[39m\u001b[32m, line 7\u001b[39m, in \u001b[36mes_palindromo\u001b[39m\u001b[34m(cadena)\u001b[39m\n\u001b[32m      5\u001b[39m \u001b[38;5;28;01mdef\u001b[39;00m\u001b[38;5;250m \u001b[39m\u001b[34mes_palindromo\u001b[39m(cadena):\n\u001b[32m      6\u001b[39m     listacadena.append(cadena)\n\u001b[32m----> \u001b[39m\u001b[32m7\u001b[39m     cadenainvertida=\u001b[43m[\u001b[49m\u001b[43mcadena\u001b[49m\u001b[43m[\u001b[49m\u001b[43m-\u001b[49m\u001b[32;43m1\u001b[39;49m\u001b[43m]\u001b[49m\u001b[43m]\u001b[49m\u001b[43m \u001b[49m\u001b[43m+\u001b[49m\u001b[43m \u001b[49m\u001b[43mcadena\u001b[49m\u001b[43m[\u001b[49m\u001b[43m:\u001b[49m\u001b[43m-\u001b[49m\u001b[32;43m1\u001b[39;49m\u001b[43m]\u001b[49m\n\u001b[32m      8\u001b[39m     \u001b[38;5;28;01mif\u001b[39;00m cadena == cadenainvertida:\n\u001b[32m      9\u001b[39m         palindromo=\u001b[38;5;28;01mTrue\u001b[39;00m   \n",
      "\u001b[31mTypeError\u001b[39m: can only concatenate list (not \"str\") to list"
     ]
    }
   ],
   "source": [
    "es_palindromo(\"Dábale arroz a la zorra el abad\")"
   ]
  }
 ],
 "metadata": {
  "kernelspec": {
   "display_name": "Python 3",
   "language": "python",
   "name": "python3"
  },
  "language_info": {
   "codemirror_mode": {
    "name": "ipython",
    "version": 3
   },
   "file_extension": ".py",
   "mimetype": "text/x-python",
   "name": "python",
   "nbconvert_exporter": "python",
   "pygments_lexer": "ipython3",
   "version": "3.13.7"
  }
 },
 "nbformat": 4,
 "nbformat_minor": 5
}
