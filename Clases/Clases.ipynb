{
 "cells": [
  {
   "cell_type": "markdown",
   "id": "3979f137",
   "metadata": {},
   "source": [
    "###### Ejercicios. Crea una clase llamada Vehiculo que representa un vehículo genérico. Esta clase tiene la capacidad de realizar acciones relacionadas con el vehículo, como encenderlo, apagarlo, acelerar, frenar y detenerlo gradualmente. Cada método en la clase tiene una descripción específica de su función. A continuación, se detallan los aspectos clave de esta clase:"
   ]
  },
  {
   "cell_type": "markdown",
   "id": "d854f5e5",
   "metadata": {},
   "source": [
    "###### Atributos:\n",
    "\n",
    "###### marca: Una cadena que representa la marca del vehículo.\n",
    "\n",
    "###### modelo: Una cadena que representa el modelo del vehículo.\n",
    "\n",
    "###### año: Un número entero que representa el año de fabricación del vehículo.\n",
    "\n",
    "###### velocidad_actual: Un número entero que representa la velocidad actual del vehículo en km/h.\n",
    "\n",
    "###### encendido: Un valor booleano que indica si el vehículo está encendido (True) o apagado (False)."
   ]
  },
  {
   "cell_type": "markdown",
   "id": "0a37acc9",
   "metadata": {},
   "source": [
    "###### Métodos: __init__(self, marca, modelo, año): El constructor de la clase que inicializa los atributos del vehículo, incluyendo la marca, el modelo, el año, la velocidad actual (inicialmente 0) y el estado del encendido (inicialmente apagado)."
   ]
  },
  {
   "cell_type": "markdown",
   "id": "2bbf2d02",
   "metadata": {},
   "source": [
    "###### informacion(self): Un método que devuelve una cadena de texto con la información básica del vehículo, incluyendo la marca, el modelo y el año."
   ]
  },
  {
   "cell_type": "markdown",
   "id": "3b3746f1",
   "metadata": {},
   "source": [
    "###### encender(self): Un método que enciende el vehículo si está apagado y devuelve un mensaje de confirmación. Si el vehículo ya está encendido, devuelve un mensaje indicando que ya está en funcionamiento."
   ]
  },
  {
   "cell_type": "markdown",
   "id": "58c092e7",
   "metadata": {},
   "source": [
    "###### apagar(self): Un método que apaga el vehículo si está encendido, establece la velocidad actual en 0 y devuelve un mensaje de confirmación. Si el vehículo ya está apagado, devuelve un mensaje indicando que ya está apagado."
   ]
  },
  {
   "cell_type": "markdown",
   "id": "03436dcd",
   "metadata": {},
   "source": [
    "###### acelerar(self, velocidad): Un método que aumenta la velocidad actual del vehículo según la cantidad de velocidad proporcionada como argumento. Si el vehículo está encendido, aumenta la velocidad y devuelve un mensaje con la nueva velocidad actual. Si el vehículo está apagado, devuelve un mensaje indicando que no se puede acelerar"
   ]
  },
  {
   "cell_type": "markdown",
   "id": "12732c78",
   "metadata": {},
   "source": [
    "###### frenar(self, velocidad): Un método que reduce la velocidad actual del vehículo según la cantidad de velocidad proporcionada como argumento. Si el vehículo está encendido, reduce la velocidad y devuelve un mensaje con la nueva velocidad actual. Si el vehículo está apagado, devuelve un mensaje indicando que no se puede frenar."
   ]
  },
  {
   "cell_type": "markdown",
   "id": "76aebcc7",
   "metadata": {},
   "source": [
    "###### frenar(self, velocidad): Un método que reduce la velocidad actual del vehículo según la cantidad de velocidad proporcionada como argumento. Si el vehículo está encendido, reduce la velocidad y devuelve un mensaje con la nueva velocidad actual. Si el vehículo está apagado, devuelve un mensaje indicando que no se puede frenar."
   ]
  },
  {
   "cell_type": "code",
   "execution_count": 1,
   "id": "1df371d3",
   "metadata": {},
   "outputs": [],
   "source": [
    "class Vehiculo: \n",
    "\n",
    "    def __init__(self, marca, modelo, anio, velocidad_actual, encendido):\n",
    "        self.marca = marca\n",
    "        self.modelo = modelo\n",
    "        self.anio= anio\n",
    "        self.velocidad_actual = velocidad_actual\n",
    "        self.encendido = encendido\n",
    "\n",
    "    def informacion(self):\n",
    "        print(f'Marca: {self.marca}, modelo: {self.modelo}, año: {self.anio}')\n",
    "\n",
    "    def encender(self):\n",
    "\n",
    "        if self.encendido == False:\n",
    "            print('El coche estaba apagado y se ha encendido correctamente')\n",
    "            self.encendido == True\n",
    "        \n",
    "        else:\n",
    "            print('El coche ya esta en funcionamiento')\n",
    "\n",
    "    def apagar(self):\n",
    "\n",
    "        if self.encendido == True:\n",
    "            print('El coche estaba encendido y se ha apagado correctamente')\n",
    "            self.encendido == False\n",
    "            self.velocidad_actual = 0\n",
    "\n",
    "        else:\n",
    "            print('El coche ya esta apagado')\n",
    "    \n",
    "    def acelerar(self):\n",
    "\n",
    "        if self.encendido == False:\n",
    "            print('El vehiculo esta apagado, no se puede acelerar')\n",
    "\n",
    "        else: \n",
    "            velocidad_aumenta = int(input('Ingrese la velocidad'))\n",
    "            self.velocidad_actual = self.velocidad_actual + velocidad_aumenta\n",
    "            print(f'La velocidad actual es: {self.velocidad_actual}')\n",
    "\n",
    "    def frenar(self):\n",
    "\n",
    "        if self.encendido == False:\n",
    "            print('El vehiculo esta apagado, no se puede frenar')\n",
    "\n",
    "        else: \n",
    "\n",
    "            velocidad_reduce = int(input('Ingrese la velocidad que quiere reducir'))\n",
    "\n",
    "            if self.velocidad_actual > velocidad_reduce:\n",
    "\n",
    "                self.velocidad_actual = self.velocidad_actual - velocidad_reduce\n",
    "                print(f'La velocidad actual es: {self.velocidad_actual}')\n",
    "\n",
    "            else: \n",
    "                print(f'La velocidad actual es: {self.velocidad_actual}. No puedes reducir mas que eso')"
   ]
  },
  {
   "cell_type": "code",
   "execution_count": 2,
   "id": "75e0559b",
   "metadata": {},
   "outputs": [],
   "source": [
    "coche_patricia = Vehiculo('Audi', 'A4', 2025, 0, True)"
   ]
  },
  {
   "cell_type": "code",
   "execution_count": 3,
   "id": "620d311e",
   "metadata": {},
   "outputs": [
    {
     "data": {
      "text/plain": [
       "{'marca': 'Audi',\n",
       " 'modelo': 'A4',\n",
       " 'anio': 2025,\n",
       " 'velocidad_actual': 0,\n",
       " 'encendido': True}"
      ]
     },
     "execution_count": 3,
     "metadata": {},
     "output_type": "execute_result"
    }
   ],
   "source": [
    "coche_patricia.__dict__"
   ]
  },
  {
   "cell_type": "code",
   "execution_count": 4,
   "id": "61526b0f",
   "metadata": {},
   "outputs": [
    {
     "name": "stdout",
     "output_type": "stream",
     "text": [
      "Marca: Audi, modelo: A4, año: 2025\n"
     ]
    }
   ],
   "source": [
    "coche_patricia.informacion()"
   ]
  },
  {
   "cell_type": "code",
   "execution_count": 5,
   "id": "6e4c94fc",
   "metadata": {},
   "outputs": [
    {
     "name": "stdout",
     "output_type": "stream",
     "text": [
      "El coche ya esta en funcionamiento\n"
     ]
    }
   ],
   "source": [
    "coche_patricia.encender()"
   ]
  },
  {
   "cell_type": "code",
   "execution_count": 6,
   "id": "8c1ed82d",
   "metadata": {},
   "outputs": [
    {
     "name": "stdout",
     "output_type": "stream",
     "text": [
      "El coche estaba encendido y se ha apagado correctamente\n"
     ]
    }
   ],
   "source": [
    "coche_patricia.apagar()"
   ]
  }
 ],
 "metadata": {
  "kernelspec": {
   "display_name": "Python 3",
   "language": "python",
   "name": "python3"
  },
  "language_info": {
   "codemirror_mode": {
    "name": "ipython",
    "version": 3
   },
   "file_extension": ".py",
   "mimetype": "text/x-python",
   "name": "python",
   "nbconvert_exporter": "python",
   "pygments_lexer": "ipython3",
   "version": "3.13.7"
  }
 },
 "nbformat": 4,
 "nbformat_minor": 5
}
