{
 "cells": [
  {
   "cell_type": "code",
   "execution_count": null,
   "id": "26075d2c",
   "metadata": {},
   "outputs": [],
   "source": [
    "# Ejercicios if-else. Verificar si un número es positivo, negativo o cero\n"
   ]
  },
  {
   "cell_type": "code",
   "execution_count": 1,
   "id": "f3f8b0c5",
   "metadata": {},
   "outputs": [],
   "source": [
    "numero = 5"
   ]
  },
  {
   "cell_type": "code",
   "execution_count": 2,
   "id": "f6c2071e",
   "metadata": {},
   "outputs": [
    {
     "name": "stdout",
     "output_type": "stream",
     "text": [
      "Es positivo\n"
     ]
    }
   ],
   "source": [
    "if numero == 0:\n",
    "    print(\"Es cero\")\n",
    "\n",
    "elif numero > 0:\n",
    "    print(\"Es positivo\")\n",
    "\n",
    "else:\n",
    "    (\"Es negativo\")"
   ]
  },
  {
   "cell_type": "code",
   "execution_count": 3,
   "id": "999a39c1",
   "metadata": {},
   "outputs": [
    {
     "name": "stdout",
     "output_type": "stream",
     "text": [
      "Es positivo\n"
     ]
    }
   ],
   "source": [
    "numero = int(input(\"Ingrese el número\"))\n",
    "\n",
    "if numero == 0:\n",
    "    print(\"Es cero\")\n",
    "\n",
    "elif numero > 0:\n",
    "    print(\"Es positivo\")\n",
    "\n",
    "else:\n",
    "    (\"Es negativo\")"
   ]
  },
  {
   "cell_type": "code",
   "execution_count": 4,
   "id": "555f990a",
   "metadata": {},
   "outputs": [],
   "source": [
    "# Verificar si un número es par o impar. Descripción: Dado un número, verifica si es par o impar."
   ]
  },
  {
   "cell_type": "code",
   "execution_count": 5,
   "id": "ec0519a6",
   "metadata": {},
   "outputs": [
    {
     "name": "stdout",
     "output_type": "stream",
     "text": [
      "El número es par\n"
     ]
    }
   ],
   "source": [
    "numero = 4\n",
    "\n",
    "if numero % 2 == 0:\n",
    "    print(\"El número es par\")\n",
    "\n",
    "else:\n",
    "    print(\"Es impar\")\n",
    "    "
   ]
  },
  {
   "cell_type": "code",
   "execution_count": 6,
   "id": "a5cf97b7",
   "metadata": {},
   "outputs": [
    {
     "name": "stdout",
     "output_type": "stream",
     "text": [
      "Es impar\n"
     ]
    }
   ],
   "source": [
    "numero = 5\n",
    "\n",
    "if numero % 2 == 0:\n",
    "    print(\"El número es par\")\n",
    "\n",
    "else:\n",
    "    print(\"Es impar\")"
   ]
  },
  {
   "cell_type": "code",
   "execution_count": null,
   "id": "8445fab7",
   "metadata": {},
   "outputs": [],
   "source": [
    "# Verificar si un estudiante aprobó o suspendió un examen.\n",
    "# Descripción: Dada la calificación de un estudiante en un examen, verifica si aprobó o suspendió (si la calificación es mayor o igual a 60 se considera aprobado)."
   ]
  },
  {
   "cell_type": "code",
   "execution_count": 8,
   "id": "8f073f2d",
   "metadata": {},
   "outputs": [
    {
     "name": "stdout",
     "output_type": "stream",
     "text": [
      "Has aprobado\n"
     ]
    }
   ],
   "source": [
    "calificacion = int(input(\"Ingrese la calificación\"))\n",
    "\n",
    "if calificacion >= 60:\n",
    "    print(\"Has aprobado\")\n",
    "\n",
    "else:\n",
    "    print(\"Has suspendido\")"
   ]
  },
  {
   "cell_type": "code",
   "execution_count": null,
   "id": "940609cf",
   "metadata": {},
   "outputs": [],
   "source": [
    "# Calcular el máximo entre dos números\n",
    "# Descripción: Dados dos números, encuentra el máximo entre ellos"
   ]
  },
  {
   "cell_type": "code",
   "execution_count": null,
   "id": "3d39f5d1",
   "metadata": {},
   "outputs": [
    {
     "name": "stdout",
     "output_type": "stream",
     "text": [
      "'Numero 2' es mayor que 'Numero 1'\n",
      "4 es mayor que 4\n"
     ]
    }
   ],
   "source": [
    "numero1 = int(input(\"Ingrese el número\"))\n",
    "numero2 = int(input(\"Ingrese el número\"))\n",
    "\n",
    "if numero1 > numero2:\n",
    "    print(\"'Numero 1' es mayor que 'Numero 2'\")\n",
    "    print(numero1, \"es mayor que\", numero2)\n",
    "\n",
    "else: \n",
    "    print(\"'Numero 2' es mayor que 'Numero 1'\")\n",
    "    print(numero2, \"es mayor que\", numero1)\n",
    "\n",
    "#Si el numero es mayor o menor, este codigo funciona. Si son iguales, no lo diferencia \n",
    "\n"
   ]
  },
  {
   "cell_type": "code",
   "execution_count": null,
   "id": "94eb2439",
   "metadata": {},
   "outputs": [
    {
     "name": "stdout",
     "output_type": "stream",
     "text": [
      "Son iguales\n"
     ]
    }
   ],
   "source": [
    "#codigo correcto para que reconozca la igualdad\n",
    "\n",
    "numero1 = int(input(\"Ingrese el número\"))\n",
    "numero2 = int(input(\"Ingrese el número\"))\n",
    "\n",
    "if numero1 > numero2:\n",
    "    print(\"'Numero 1' es mayor que 'Numero 2'\")\n",
    "    print(numero1, \"es mayor que\", numero2)\n",
    "\n",
    "elif numero1 == numero2:\n",
    "    print(\"Son iguales\")\n",
    "\n",
    "else: \n",
    "    print(\"'Numero 2' es mayor que 'Numero 1'\")\n",
    "    print(numero2, \"es mayor que\", numero1)\n"
   ]
  },
  {
   "cell_type": "code",
   "execution_count": null,
   "id": "ea858c5e",
   "metadata": {},
   "outputs": [],
   "source": [
    "# Verificar si una letra es una vocal o una consonante\n",
    "# Descripción: Dada una letra, verifica si es una vocal o una consonante."
   ]
  },
  {
   "cell_type": "code",
   "execution_count": 5,
   "id": "7c1e539c",
   "metadata": {},
   "outputs": [
    {
     "name": "stdout",
     "output_type": "stream",
     "text": [
      "Es una consonante\n"
     ]
    }
   ],
   "source": [
    "letra = input(\"Ingresa la letra\")\n",
    "vocales = [\"a\", \"e\", \"i\", \"o\", \"u\"]\n",
    "\n",
    "if letra in vocales:\n",
    "    print(\"Es una vocal\") \n",
    "\n",
    "else:\n",
    "    print(\"Es una consonante\")\n",
    "    "
   ]
  },
  {
   "cell_type": "code",
   "execution_count": null,
   "id": "30f20f2a",
   "metadata": {},
   "outputs": [],
   "source": [
    "# Calcular el descuento en una compra según el monto total\n",
    "# Descripción: Dado el monto total de una compra, calcula el descuento aplicado según las siguientes condiciones: si el monto es mayor o igual a $100, aplica un descuento del 10%; de lo contrario, no aplica ningún descuento."
   ]
  },
  {
   "cell_type": "code",
   "execution_count": 8,
   "id": "489272c1",
   "metadata": {},
   "outputs": [
    {
     "name": "stdout",
     "output_type": "stream",
     "text": [
      "El descuento no se aplica\n"
     ]
    }
   ],
   "source": [
    "compra = float(input(\"Ingresa importe de la compra\"))\n",
    "\n",
    "if compra >= 100:\n",
    "    print(\"El descuento es del 10%\")\n",
    "\n",
    "else: \n",
    "    print(\"El descuento no se aplica\")"
   ]
  },
  {
   "cell_type": "code",
   "execution_count": null,
   "id": "b470244f",
   "metadata": {},
   "outputs": [
    {
     "name": "stdout",
     "output_type": "stream",
     "text": [
      "El descuento es del 50.0\n"
     ]
    }
   ],
   "source": [
    "compra = float(input(\"Ingresa importe de la compra\"))\n",
    "\n",
    "if compra >= 100:\n",
    "    print(\"El descuento es de\", compra * 0.10)\n",
    "\n",
    "else: \n",
    "    print(\"El descuento no se aplica\")"
   ]
  },
  {
   "cell_type": "code",
   "execution_count": null,
   "id": "4d5934f4",
   "metadata": {},
   "outputs": [],
   "source": [
    "# Verificar si un año es bisiesto o no\n",
    "# Descripción: Dado un año, verifica si es bisiesto o no (un año es bisiesto si es divisible entre 4, excepto aquellos divisibles entre 100 pero no entre 400)."
   ]
  },
  {
   "cell_type": "code",
   "execution_count": 13,
   "id": "a8223024",
   "metadata": {},
   "outputs": [
    {
     "name": "stdout",
     "output_type": "stream",
     "text": [
      "El año no es bisiesto\n"
     ]
    }
   ],
   "source": [
    "año = int(input(\"Ingresa el año\"))\n",
    "\n",
    "if año % 4 == 0 and año % 400 != 0:\n",
    "    print(\"El año es bisiesto\")\n",
    "    \n",
    "\n",
    "else:\n",
    "    print(\"El año no es bisiesto\")"
   ]
  },
  {
   "cell_type": "code",
   "execution_count": null,
   "id": "4a28c4d0",
   "metadata": {},
   "outputs": [],
   "source": [
    "# Asignar una categoría a una edad\n",
    "# Descripción: Dada una edad, asigna una categoría según las siguientes condiciones: si la edad es menor de 18, la categoría es \"Menor de edad\"; si la edad está entre 18 y 64 (incluyendo ambos), la categoría es \"Adulto\"; de lo contrario, la categoría es \"Adulto mayor\"."
   ]
  },
  {
   "cell_type": "code",
   "execution_count": 18,
   "id": "77b30ebe",
   "metadata": {},
   "outputs": [
    {
     "name": "stdout",
     "output_type": "stream",
     "text": [
      "Adulto mayor\n"
     ]
    }
   ],
   "source": [
    "edad = int(input(\"Ingresa edad\"))\n",
    "\n",
    "if edad <= 18:\n",
    "    print(\"Menor de edad\")\n",
    "\n",
    "elif edad > 18 and edad < 64:\n",
    "    print(\"Adulto\")\n",
    "\n",
    "else:\n",
    "    print(\"Adulto mayor\")"
   ]
  }
 ],
 "metadata": {
  "kernelspec": {
   "display_name": "Python 3",
   "language": "python",
   "name": "python3"
  },
  "language_info": {
   "codemirror_mode": {
    "name": "ipython",
    "version": 3
   },
   "file_extension": ".py",
   "mimetype": "text/x-python",
   "name": "python",
   "nbconvert_exporter": "python",
   "pygments_lexer": "ipython3",
   "version": "3.13.7"
  }
 },
 "nbformat": 4,
 "nbformat_minor": 5
}
