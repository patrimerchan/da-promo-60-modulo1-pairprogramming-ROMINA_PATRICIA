{
 "cells": [
  {
   "cell_type": "code",
   "execution_count": 11,
   "id": "1a6a2e7b",
   "metadata": {},
   "outputs": [],
   "source": [
    "#Crear un diccionario vacío - Descripción: Crea un diccionario vacío sin ningún par clave-valor.\n",
    "\n",
    "diccionario1={}  \n"
   ]
  },
  {
   "cell_type": "code",
   "execution_count": 12,
   "id": "ee80b8b3",
   "metadata": {},
   "outputs": [
    {
     "name": "stdout",
     "output_type": "stream",
     "text": [
      "{}\n"
     ]
    }
   ],
   "source": [
    "print(diccionario1)"
   ]
  },
  {
   "cell_type": "code",
   "execution_count": 13,
   "id": "c5cd6c9c",
   "metadata": {},
   "outputs": [],
   "source": [
    "#Crear un diccionario con elementos \n",
    "#Descripción: Crea un diccionario con pares clave-valor predefinidos. Definir el diccionario con las claves y valores que querais. NOTA El diccionario debe tener al menos 5 pares de clave:valor."
   ]
  },
  {
   "cell_type": "code",
   "execution_count": 51,
   "id": "8bd75a49",
   "metadata": {},
   "outputs": [
    {
     "name": "stdout",
     "output_type": "stream",
     "text": [
      "{'pantalon': 'azul', 'camisa': 'roja', 'chaqueta': 'negra', 'zapatos': 'marrones', 'sudadera': 'verde', 'gorra': 'amarilla'}\n"
     ]
    }
   ],
   "source": [
    "diccionarioropa={\"pantalon\":\"azul\",\"camisa\":\"roja\", \"chaqueta\":\"negra\", \"zapatos\":\"marrones\", \"sudadera\":\"verde\", \"gorra\":\"amarilla\"}\n",
    "\n",
    "print(diccionarioropa)"
   ]
  },
  {
   "cell_type": "code",
   "execution_count": 17,
   "id": "6eebeb52",
   "metadata": {},
   "outputs": [
    {
     "name": "stdout",
     "output_type": "stream",
     "text": [
      "azul\n"
     ]
    }
   ],
   "source": [
    "#Acceder al valor de una clave en un diccionario\n",
    "#Descripción: Usando el diccionario creado en el paso anterior, obtén el valor correspondiente a una clave específica que indique el usuario (debereis usar la función input() para preguntar al usuario).\n",
    "\n",
    "print(diccionarioropa[input(diccionarioropa)])"
   ]
  },
  {
   "cell_type": "code",
   "execution_count": 23,
   "id": "69439eda",
   "metadata": {},
   "outputs": [
    {
     "name": "stdout",
     "output_type": "stream",
     "text": [
      "{'pantalon': 'azul', 'camisa': 'roja', 'chaqueta': 'negra', 'zapatos': 'marrones', 'sudadera': 'verde', 'gorra': 'amarilla', 'camiseta': 'lila'}\n"
     ]
    }
   ],
   "source": [
    "#Agregar un nuevo par clave-valor a un diccionario - Descripción: Usando el diccionario creado en el ejercicio 2, agrega un nuevo par clave-valor.\n",
    "\n",
    "diccionarioropa.update({\"camiseta\":\"lila\"})\n",
    "\n",
    "print(diccionarioropa)"
   ]
  },
  {
   "cell_type": "code",
   "execution_count": 53,
   "id": "21aad99f",
   "metadata": {},
   "outputs": [
    {
     "name": "stdout",
     "output_type": "stream",
     "text": [
      "{'pantalon': 'celeste', 'camisa': 'roja', 'chaqueta': 'negra', 'zapatos': 'marrones', 'sudadera': 'verde', 'gorra': 'amarilla'}\n"
     ]
    }
   ],
   "source": [
    "#Actualizar el valor de una clave en un diccionario -Descripción: Usando el diccionario creado en el ejercicio 2, actualiza el valor correspondiente a una clave existente. Ejemplo:\n",
    "\n",
    "diccionarioropa.update({\"pantalon\":\"celeste\"})\n",
    "\n",
    "print(diccionarioropa)"
   ]
  },
  {
   "cell_type": "code",
   "execution_count": 27,
   "id": "7e348b86",
   "metadata": {},
   "outputs": [
    {
     "data": {
      "text/plain": [
       "'verde'"
      ]
     },
     "execution_count": 27,
     "metadata": {},
     "output_type": "execute_result"
    }
   ],
   "source": [
    "#Eliminar un par clave-valor de un diccionario\n",
    "# Descripción: Usando el diccionario creado en el ejercicio 2, elimina un par clave-valor específico que indique el usuario (debereis usar la función input() para preguntar al usuario).\n",
    "\n",
    "diccionarioropa.pop(input(diccionarioropa))"
   ]
  },
  {
   "cell_type": "code",
   "execution_count": 28,
   "id": "6d63d119",
   "metadata": {},
   "outputs": [
    {
     "name": "stdout",
     "output_type": "stream",
     "text": [
      "{'pantalon': 'celeste', 'camisa': 'roja', 'chaqueta': 'negra', 'zapatos': 'marrones', 'gorra': 'amarilla', 'camiseta': 'lila'}\n"
     ]
    }
   ],
   "source": [
    "print(diccionarioropa)"
   ]
  },
  {
   "cell_type": "code",
   "execution_count": 30,
   "id": "9960ddd7",
   "metadata": {},
   "outputs": [
    {
     "data": {
      "text/plain": [
       "True"
      ]
     },
     "execution_count": 30,
     "metadata": {},
     "output_type": "execute_result"
    }
   ],
   "source": [
    "#Verificar si una clave está presente en un diccionario\n",
    "#Descripción: Usando el diccionario creado en el ejercicio 2, verifica si una clave específica está presente en él. La clave a buscar debe ser pasada por el usuario, debereis usar un input().\n",
    "\n",
    "input(diccionarioropa) in diccionarioropa"
   ]
  },
  {
   "cell_type": "code",
   "execution_count": 33,
   "id": "421dccdd",
   "metadata": {},
   "outputs": [
    {
     "name": "stdout",
     "output_type": "stream",
     "text": [
      "[dict_keys(['pantalon', 'camisa', 'chaqueta', 'zapatos', 'gorra', 'camiseta'])]\n"
     ]
    }
   ],
   "source": [
    "#Obtener una lista de todas las claves de un diccionario\n",
    "#Descripción: Usando el diccionario creado en el ejercicio 2, obtén una lista con todas las claves que contiene.\n",
    "\n",
    "clavesdiccionario=[diccionarioropa.keys()]\n",
    "\n",
    "print(clavesdiccionario)"
   ]
  },
  {
   "cell_type": "code",
   "execution_count": 34,
   "id": "17dbee08",
   "metadata": {},
   "outputs": [
    {
     "data": {
      "text/plain": [
       "dict_keys(['pantalon', 'camisa', 'chaqueta', 'zapatos', 'gorra', 'camiseta'])"
      ]
     },
     "execution_count": 34,
     "metadata": {},
     "output_type": "execute_result"
    }
   ],
   "source": [
    "diccionarioropa.keys()"
   ]
  },
  {
   "cell_type": "code",
   "execution_count": 37,
   "id": "d7e50088",
   "metadata": {},
   "outputs": [
    {
     "name": "stdout",
     "output_type": "stream",
     "text": [
      "[dict_values(['celeste', 'roja', 'negra', 'marrones', 'amarilla', 'lila'])]\n"
     ]
    },
    {
     "data": {
      "text/plain": [
       "dict_values(['celeste', 'roja', 'negra', 'marrones', 'amarilla', 'lila'])"
      ]
     },
     "execution_count": 37,
     "metadata": {},
     "output_type": "execute_result"
    }
   ],
   "source": [
    "#Obtener una lista de todos los valores de un diccionario \n",
    "#Descripción: Usando el diccionario creado en el ejercicio 2, obtén una lista con todos los valores que contiene.\n",
    "\n",
    "\n",
    "valoresdiccionario= [diccionarioropa.values()]\n",
    "\n",
    "print(valoresdiccionario)\n",
    "\n",
    "diccionarioropa.values()"
   ]
  },
  {
   "cell_type": "code",
   "execution_count": 39,
   "id": "5f9f57ed",
   "metadata": {},
   "outputs": [
    {
     "data": {
      "text/plain": [
       "'no existe'"
      ]
     },
     "execution_count": 39,
     "metadata": {},
     "output_type": "execute_result"
    }
   ],
   "source": [
    "#Utilizar el método setdefault() para establecer un valor predeterminado si la clave no existe\n",
    "# Descripción: Usando el diccionario creado en el ejercicio 2, obten el valor correspondiente a una clave. Si la clave no existe, establece un valor predeterminado y devuelve dicho valor.\n",
    "\n",
    "diccionarioropa.setdefault(\"calcetin\", \"no existe\")\n"
   ]
  },
  {
   "cell_type": "code",
   "execution_count": 45,
   "id": "4a8a540e",
   "metadata": {},
   "outputs": [
    {
     "data": {
      "text/plain": [
       "'azul'"
      ]
     },
     "execution_count": 45,
     "metadata": {},
     "output_type": "execute_result"
    }
   ],
   "source": [
    "#Manipulación de un diccionario utilizando pop() y popitem()\n",
    "#Descripción: Usando el diccionario creado en el ejercicio 2, realiza operaciones de eliminación utilizando pop() y popitem(), y observa cómo afectan al diccionario.\n",
    "\n",
    "diccionarioropa.pop(\"pantalon\")\n",
    "\n"
   ]
  },
  {
   "cell_type": "code",
   "execution_count": 46,
   "id": "f4d03e9e",
   "metadata": {},
   "outputs": [
    {
     "name": "stdout",
     "output_type": "stream",
     "text": [
      "{'camisa': 'roja', 'chaqueta': 'negra', 'zapatos': 'marrones', 'sudadera': 'verde', 'gorra': 'amarilla'}\n"
     ]
    }
   ],
   "source": [
    "print(diccionarioropa)"
   ]
  },
  {
   "cell_type": "code",
   "execution_count": 47,
   "id": "e298b282",
   "metadata": {},
   "outputs": [
    {
     "data": {
      "text/plain": [
       "('gorra', 'amarilla')"
      ]
     },
     "execution_count": 47,
     "metadata": {},
     "output_type": "execute_result"
    }
   ],
   "source": [
    "diccionarioropa.popitem()"
   ]
  },
  {
   "cell_type": "code",
   "execution_count": 48,
   "id": "7c420c6a",
   "metadata": {},
   "outputs": [
    {
     "name": "stdout",
     "output_type": "stream",
     "text": [
      "{'camisa': 'roja', 'chaqueta': 'negra', 'zapatos': 'marrones', 'sudadera': 'verde'}\n"
     ]
    }
   ],
   "source": [
    "print(diccionarioropa)"
   ]
  },
  {
   "cell_type": "code",
   "execution_count": null,
   "id": "a5c5ef81",
   "metadata": {},
   "outputs": [],
   "source": []
  },
  {
   "cell_type": "code",
   "execution_count": null,
   "id": "f6a5bea3",
   "metadata": {},
   "outputs": [],
   "source": []
  }
 ],
 "metadata": {
  "kernelspec": {
   "display_name": "Python 3",
   "language": "python",
   "name": "python3"
  },
  "language_info": {
   "codemirror_mode": {
    "name": "ipython",
    "version": 3
   },
   "file_extension": ".py",
   "mimetype": "text/x-python",
   "name": "python",
   "nbconvert_exporter": "python",
   "pygments_lexer": "ipython3",
   "version": "3.13.7"
  }
 },
 "nbformat": 4,
 "nbformat_minor": 5
}
